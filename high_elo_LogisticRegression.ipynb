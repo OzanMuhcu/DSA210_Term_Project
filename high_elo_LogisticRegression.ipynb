{
 "cells": [
  {
   "cell_type": "markdown",
   "id": "fda8b07d",
   "metadata": {},
   "source": [
    "## Load the dataset and Import the necessary libraries "
   ]
  },
  {
   "cell_type": "code",
   "execution_count": 72,
   "id": "09836240",
   "metadata": {},
   "outputs": [],
   "source": [
    "import pandas as pd\n",
    "import numpy as np\n",
    "from sklearn.model_selection import train_test_split\n",
    "from sklearn.linear_model import LogisticRegression\n",
    "from sklearn.metrics import ConfusionMatrixDisplay, confusion_matrix, roc_curve\n",
    "from dmba import classificationSummary\n",
    "import matplotlib.pyplot as plt\n",
    "%matplotlib inline\n",
    "\n",
    "# Load the dataset\n",
    "df = pd.read_csv('enriched_high_elo_games.csv')"
   ]
  },
  {
   "cell_type": "markdown",
   "id": "bea3de7d",
   "metadata": {},
   "source": [
    "## Encode the outcome variable: 1 for White win (\"1-0\"), 0 otherwise"
   ]
  },
  {
   "cell_type": "code",
   "execution_count": 73,
   "id": "8ca830a5",
   "metadata": {},
   "outputs": [
    {
     "name": "stdout",
     "output_type": "stream",
     "text": [
      "Outcome distribution:\n",
      "white_win\n",
      "0    0.502\n",
      "1    0.498\n",
      "Name: proportion, dtype: float64\n"
     ]
    }
   ],
   "source": [
    "df['white_win'] = df['result'].apply(lambda x: 1 if x == '1-0' else 0)\n",
    "print(\"Outcome distribution:\")\n",
    "print(df['white_win'].value_counts(normalize=True))"
   ]
  },
  {
   "cell_type": "markdown",
   "id": "b85805c6",
   "metadata": {},
   "source": [
    "## Filter ECO codes with sufficient games"
   ]
  },
  {
   "cell_type": "code",
   "execution_count": 74,
   "id": "c46b5502",
   "metadata": {},
   "outputs": [
    {
     "name": "stdout",
     "output_type": "stream",
     "text": [
      "\n",
      "Number of ECO codes with at least 5 games: 56\n",
      "Filtered dataset size: 661 (original: 1000)\n"
     ]
    }
   ],
   "source": [
    "min_games = 5  # Minimum number of games per ECO code\n",
    "eco_counts = df['eco'].value_counts()\n",
    "valid_eco = eco_counts[eco_counts >= min_games].index\n",
    "df_filtered = df[df['eco'].isin(valid_eco)]\n",
    "print(f\"\\nNumber of ECO codes with at least {min_games} games: {len(valid_eco)}\")\n",
    "print(f\"Filtered dataset size: {df_filtered.shape[0]} (original: {df.shape[0]})\")"
   ]
  },
  {
   "cell_type": "markdown",
   "id": "bfcaff52",
   "metadata": {},
   "source": [
    "## Calculate White win rate by ECO code"
   ]
  },
  {
   "cell_type": "code",
   "execution_count": 75,
   "id": "69e7bf6a",
   "metadata": {},
   "outputs": [
    {
     "name": "stdout",
     "output_type": "stream",
     "text": [
      "\n",
      "Top 10 White Win Rates by ECO (filtered):\n",
      "eco\n",
      "A13    1.000000\n",
      "A20    0.857143\n",
      "A10    0.727273\n",
      "B06    0.714286\n",
      "D02    0.705882\n",
      "A46    0.692308\n",
      "A04    0.666667\n",
      "C45    0.666667\n",
      "B31    0.666667\n",
      "B90    0.666667\n",
      "Name: white_win, dtype: float64\n"
     ]
    }
   ],
   "source": [
    "win_by_eco = df_filtered.groupby('eco')['white_win'].mean().sort_values(ascending=False)\n",
    "print(\"\\nTop 10 White Win Rates by ECO (filtered):\")\n",
    "print(win_by_eco.head(10))"
   ]
  },
  {
   "cell_type": "markdown",
   "id": "f3a7ce6b",
   "metadata": {},
   "source": [
    "## Plot White win rates"
   ]
  },
  {
   "cell_type": "code",
   "execution_count": 76,
   "id": "0902e218",
   "metadata": {},
   "outputs": [
    {
     "data": {
      "image/png": "[encoded data removed]",
      "text/plain": [
       "<Figure size 1200x500 with 1 Axes>"
      ]
     },
     "metadata": {},
     "output_type": "display_data"
    }
   ],
   "source": [
    "plt.figure(figsize=(12, 5))\n",
    "win_by_eco.plot(kind='bar', color='green')\n",
    "plt.title('White Win Rate by Opening (ECO)')\n",
    "plt.ylabel('Win Rate')\n",
    "plt.xlabel('ECO')\n",
    "plt.tight_layout()\n",
    "plt.show()"
   ]
  },
  {
   "cell_type": "markdown",
   "id": "4d30fa0d",
   "metadata": {},
   "source": [
    "### Prepare predictors for logistic regression & Handle missing data with Imputation Drop rowns if necessary"
   ]
  },
  {
   "cell_type": "code",
   "execution_count": 77,
   "id": "d6bbf4cf",
   "metadata": {},
   "outputs": [
    {
     "name": "stdout",
     "output_type": "stream",
     "text": [
      "\n",
      "Missing values in filtered dataset:\n",
      "white_elo               0\n",
      "black_elo               0\n",
      "time_control            0\n",
      "termination             0\n",
      "eco                     0\n",
      "white_preferred_game    0\n",
      "black_preferred_game    0\n",
      "white_total_wins        0\n",
      "black_total_wins        0\n",
      "white_win               0\n",
      "dtype: int64\n"
     ]
    }
   ],
   "source": [
    "predictors = [\n",
    "    'white_elo', 'black_elo', 'time_control', 'termination', 'eco',\n",
    "    'white_preferred_game', 'black_preferred_game', 'white_total_wins', 'black_total_wins'\n",
    "]\n",
    "outcome = 'white_win'\n",
    "\n",
    "print(\"\\nMissing values in filtered dataset:\")\n",
    "print(df_filtered[predictors + [outcome]].isna().sum())\n",
    "\n",
    "df_filtered = df_filtered.copy()\n",
    "\n",
    "numerical_cols = ['white_elo', 'black_elo', 'white_total_wins', 'black_total_wins']\n",
    "for col in numerical_cols:\n",
    "    df_filtered[col] = df_filtered[col].fillna(df_filtered[col].median())\n",
    "\n",
    "df_filtered = df_filtered.dropna(subset=[\n",
    "    'time_control', 'termination', 'eco', 'white_preferred_game', 'black_preferred_game', outcome\n",
    "])"
   ]
  },
  {
   "cell_type": "markdown",
   "id": "8bc95836",
   "metadata": {},
   "source": [
    "## Encode categorical variables & Split data"
   ]
  },
  {
   "cell_type": "code",
   "execution_count": 78,
   "id": "960b8c03",
   "metadata": {},
   "outputs": [
    {
     "name": "stdout",
     "output_type": "stream",
     "text": [
      "\n",
      "Training set size: 528\n",
      "Test set size: 133\n"
     ]
    }
   ],
   "source": [
    "X = pd.get_dummies(df_filtered[predictors], columns=['time_control', 'termination', 'eco', 'white_preferred_game', 'black_preferred_game'], drop_first=True)\n",
    "y = df_filtered[outcome]\n",
    "\n",
    "X_train, X_test, y_train, y_test = train_test_split(X, y, test_size=0.2, random_state=42)\n",
    "print(f\"\\nTraining set size: {X_train.shape[0]}\")\n",
    "print(f\"Test set size: {X_test.shape[0]}\")"
   ]
  },
  {
   "cell_type": "markdown",
   "id": "3be8c24a",
   "metadata": {},
   "source": [
    "## Fit logistic regression model & Display coefficients"
   ]
  },
  {
   "cell_type": "code",
   "execution_count": 87,
   "id": "fca35d73",
   "metadata": {},
   "outputs": [
    {
     "name": "stdout",
     "output_type": "stream",
     "text": [
      "\n",
      "Logistic Regression Coefficients (first 10):\n",
      "                           Coefs\n",
      "Intercept           8.304845e-02\n",
      "white_elo           5.687816e-03\n",
      "black_elo          -5.411601e-03\n",
      "white_total_wins   -3.640480e-07\n",
      "black_total_wins    7.012459e-06\n",
      "time_control_0+1    1.398489e-02\n",
      "time_control_0+3    0.000000e+00\n",
      "time_control_120+0 -1.902700e-01\n",
      "time_control_120+1  4.791825e-01\n",
      "time_control_120+2 -1.011163e-01\n"
     ]
    }
   ],
   "source": [
    "logit_reg = LogisticRegression(max_iter=5000, solver='liblinear')\n",
    "logit_reg.fit(X_train, y_train)\n",
    "\n",
    "coefs = pd.DataFrame(\n",
    "    data={'Coefs': np.concatenate((logit_reg.intercept_, logit_reg.coef_[0]))},\n",
    "    index=np.concatenate((['Intercept'], X_train.columns))\n",
    ")\n",
    "\n",
    "print(\"\\nLogistic Regression Coefficients (first 10):\")\n",
    "print(coefs.head(10))"
   ]
  },
  {
   "cell_type": "markdown",
   "id": "dc56fe54",
   "metadata": {},
   "source": [
    "## Predict probabilities & Classes "
   ]
  },
  {
   "cell_type": "code",
   "execution_count": 80,
   "id": "65a5c471",
   "metadata": {},
   "outputs": [
    {
     "name": "stdout",
     "output_type": "stream",
     "text": [
      "\n",
      "Predicted Probabilities (first 5 rows):\n",
      "          0         1\n",
      "0  0.502008  0.497992\n",
      "1  0.648740  0.351260\n",
      "2  0.566459  0.433541\n",
      "3  0.277315  0.722685\n",
      "4  0.382634  0.617366\n"
     ]
    }
   ],
   "source": [
    "pred_logitreg = pd.DataFrame(\n",
    "    logit_reg.predict_proba(X_test),\n",
    "    columns=logit_reg.classes_\n",
    ")\n",
    "print(\"\\nPredicted Probabilities (first 5 rows):\")\n",
    "print(pred_logitreg.head())\n",
    "\n",
    "y_pred = logit_reg.predict(X_test)"
   ]
  },
  {
   "cell_type": "markdown",
   "id": "a6c7fead",
   "metadata": {},
   "source": [
    "## Confusion matrix "
   ]
  },
  {
   "cell_type": "code",
   "execution_count": 81,
   "id": "8f37485f",
   "metadata": {},
   "outputs": [
    {
     "name": "stdout",
     "output_type": "stream",
     "text": [
      "\n",
      "Confusion Matrix for Logistic Regression:\n",
      "Confusion Matrix (Accuracy 0.6391)\n",
      "\n",
      "              Prediction\n",
      "       Actual Not White Win     White Win\n",
      "Not White Win            41            31\n",
      "    White Win            17            44\n"
     ]
    }
   ],
   "source": [
    "print(\"\\nConfusion Matrix for Logistic Regression:\")\n",
    "classificationSummary(y_test, y_pred, class_names=['Not White Win', 'White Win'])"
   ]
  },
  {
   "cell_type": "markdown",
   "id": "dc27014e",
   "metadata": {},
   "source": [
    "## ROC curve"
   ]
  },
  {
   "cell_type": "code",
   "execution_count": 82,
   "id": "ebcdac86",
   "metadata": {},
   "outputs": [
    {
     "name": "stdout",
     "output_type": "stream",
     "text": [
      "\n",
      "ROC Data (first 5 rows):\n",
      "     recall  specificity  thresholds\n",
      "0  0.000000     1.000000         inf\n",
      "1  0.016393     1.000000    0.984574\n",
      "2  0.081967     1.000000    0.939657\n",
      "3  0.081967     0.986111    0.939282\n",
      "4  0.114754     0.986111    0.923654\n"
     ]
    },
    {
     "data": {
      "image/png": "[encoded data removed]",
      "text/plain": [
       "<Figure size 400x400 with 1 Axes>"
      ]
     },
     "metadata": {},
     "output_type": "display_data"
    }
   ],
   "source": [
    "fpr, tpr, thresholds = roc_curve(y_test, logit_reg.predict_proba(X_test)[:, 1])\n",
    "roc_df = pd.DataFrame({'recall': tpr, 'specificity': 1 - fpr, 'thresholds': thresholds})\n",
    "print(\"\\nROC Data (first 5 rows):\")\n",
    "print(roc_df.head())\n",
    "\n",
    "# Plot ROC curve\n",
    "plt.figure(figsize=(4, 4))\n",
    "plt.plot(roc_df['specificity'], roc_df['recall'], label='ROC Curve')\n",
    "plt.plot([1, 0], [0, 1], linestyle='--', color='gray')\n",
    "plt.xlim([0, 1])\n",
    "plt.ylim([0, 1])\n",
    "plt.xlabel('Specificity')\n",
    "plt.ylabel('Recall')\n",
    "plt.title('ROC Curve')\n",
    "plt.tight_layout()\n",
    "plt.show()"
   ]
  },
  {
   "cell_type": "markdown",
   "id": "b2ac2410",
   "metadata": {},
   "source": [
    "# Calculate AUROC"
   ]
  },
  {
   "cell_type": "code",
   "execution_count": 83,
   "id": "c4980f3e",
   "metadata": {},
   "outputs": [
    {
     "name": "stdout",
     "output_type": "stream",
     "text": [
      "AUROC: 0.72\n"
     ]
    }
   ],
   "source": [
    "auroc = round(np.sum(roc_df.recall[:-1] * np.diff(1 - roc_df.specificity)), 2)\n",
    "print(f\"AUROC: {auroc}\")"
   ]
  },
  {
   "cell_type": "markdown",
   "id": "ad53ea6c",
   "metadata": {},
   "source": [
    "## Display Confusion Matrix"
   ]
  },
  {
   "cell_type": "code",
   "execution_count": 84,
   "id": "f6bbf4eb",
   "metadata": {},
   "outputs": [
    {
     "data": {
      "image/png": "[encoded data removed]",
      "text/plain": [
       "<Figure size 640x480 with 2 Axes>"
      ]
     },
     "metadata": {},
     "output_type": "display_data"
    }
   ],
   "source": [
    "cm = confusion_matrix(y_test, y_pred)\n",
    "\n",
    "disp = ConfusionMatrixDisplay(confusion_matrix=cm, display_labels=['Black Wins/Draw', 'White Wins'])\n",
    "disp.plot(cmap='Blues')\n",
    "plt.title('Confusion Matrix')\n",
    "plt.grid(False)\n",
    "plt.show()"
   ]
  }
 ],
 "metadata": {
  "kernelspec": {
   "display_name": "Python 3",
   "language": "python",
   "name": "python3"
  },
  "language_info": {
   "codemirror_mode": {
    "name": "ipython",
    "version": 3
   },
   "file_extension": ".py",
   "mimetype": "text/x-python",
   "name": "python",
   "nbconvert_exporter": "python",
   "pygments_lexer": "ipython3",
   "version": "3.12.5"
  }
 },
 "nbformat": 4,
 "nbformat_minor": 5
}
